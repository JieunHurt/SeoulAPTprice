{
 "cells": [
  {
   "cell_type": "markdown",
   "id": "f64e0830",
   "metadata": {},
   "source": [
    "# Seoul Apartment Price Predictions"
   ]
  },
  {
   "cell_type": "markdown",
   "id": "23e19ee1",
   "metadata": {},
   "source": [
    "I predicted apartment prices in Seoul based on housing location, size, floor, and age. Given the fact that a lot of South Korean people prefer apartments for residence and that apartment prices has increased substantially over the last five years, especially in Seoul, I aimed to understand what factors contribute to an increase in apartment price the most. For this data analysis project, I scraped xml format files of the transaction data for apartment sales from January 2006 to December 2020 provided by the Korean Ministry of Land, Infrastructure by using Python. \n",
    " I tried various models to predict apartment princes in Seoul and found out that a random forest model performs with smallest prediction errors and highest $R^{2}$."
   ]
  },
  {
   "cell_type": "markdown",
   "id": "9f149105",
   "metadata": {},
   "source": [
    "## Library Imports"
   ]
  },
  {
   "cell_type": "code",
   "execution_count": 1,
   "id": "478b95c0",
   "metadata": {},
   "outputs": [],
   "source": [
    "import sys\n",
    "import os\n",
    "import numpy as np\n",
    "import pandas as pd\n",
    "pd.set_option('display.float_format', lambda x:'%.2f' %x)\n",
    "\n",
    "from matplotlib import pyplot as plt\n",
    "%matplotlib inline\n",
    "\n",
    "import seaborn as sns\n",
    "sns.set_style('darkgrid')\n",
    "\n",
    "from sklearn.linear_model import Lasso, Ridge, ElasticNet\n",
    "from sklearn.ensemble import RandomForestRegressor, GradientBoostingRegressor\n",
    "\n",
    "from sklearn.model_selection import train_test_split\n",
    "from sklearn.pipeline import make_pipeline\n",
    "from sklearn.preprocessing import StandardScaler\n",
    "from sklearn.model_selection import GridSearchCV\n",
    "\n",
    "import warnings\n",
    "from sklearn.exceptions import ConvergenceWarning\n",
    "warnings.simplefilter(action='ignore',category=ConvergenceWarning)\n",
    "    \n",
    "from sklearn.metrics import r2_score\n",
    "from sklearn.metrics import mean_absolute_error\n",
    "\n",
    "import pickle"
   ]
  },
  {
   "cell_type": "markdown",
   "id": "19f98de8",
   "metadata": {},
   "source": [
    "## Exploratory Analysis"
   ]
  },
  {
   "cell_type": "code",
   "execution_count": 2,
   "id": "a48d0832",
   "metadata": {},
   "outputs": [
    {
     "name": "stdout",
     "output_type": "stream",
     "text": [
      "The number of observations: 1249656\n"
     ]
    },
    {
     "data": {
      "text/html": [
       "<div>\n",
       "<style scoped>\n",
       "    .dataframe tbody tr th:only-of-type {\n",
       "        vertical-align: middle;\n",
       "    }\n",
       "\n",
       "    .dataframe tbody tr th {\n",
       "        vertical-align: top;\n",
       "    }\n",
       "\n",
       "    .dataframe thead th {\n",
       "        text-align: right;\n",
       "    }\n",
       "</style>\n",
       "<table border=\"1\" class=\"dataframe\">\n",
       "  <thead>\n",
       "    <tr style=\"text-align: right;\">\n",
       "      <th></th>\n",
       "      <th>tx_year</th>\n",
       "      <th>tx_month</th>\n",
       "      <th>price</th>\n",
       "      <th>built</th>\n",
       "      <th>house_size</th>\n",
       "      <th>floor</th>\n",
       "      <th>geo_code</th>\n",
       "    </tr>\n",
       "  </thead>\n",
       "  <tbody>\n",
       "    <tr>\n",
       "      <th>0</th>\n",
       "      <td>2006</td>\n",
       "      <td>1</td>\n",
       "      <td>29,500</td>\n",
       "      <td>1983</td>\n",
       "      <td>93.40</td>\n",
       "      <td>6</td>\n",
       "      <td>11110</td>\n",
       "    </tr>\n",
       "    <tr>\n",
       "      <th>1</th>\n",
       "      <td>2006</td>\n",
       "      <td>1</td>\n",
       "      <td>15,741</td>\n",
       "      <td>1998</td>\n",
       "      <td>57.18</td>\n",
       "      <td>12</td>\n",
       "      <td>11110</td>\n",
       "    </tr>\n",
       "    <tr>\n",
       "      <th>2</th>\n",
       "      <td>2006</td>\n",
       "      <td>1</td>\n",
       "      <td>23,198</td>\n",
       "      <td>1998</td>\n",
       "      <td>84.26</td>\n",
       "      <td>6</td>\n",
       "      <td>11110</td>\n",
       "    </tr>\n",
       "    <tr>\n",
       "      <th>3</th>\n",
       "      <td>2006</td>\n",
       "      <td>1</td>\n",
       "      <td>23,198</td>\n",
       "      <td>1998</td>\n",
       "      <td>84.26</td>\n",
       "      <td>14</td>\n",
       "      <td>11110</td>\n",
       "    </tr>\n",
       "    <tr>\n",
       "      <th>4</th>\n",
       "      <td>2006</td>\n",
       "      <td>1</td>\n",
       "      <td>21,535</td>\n",
       "      <td>1998</td>\n",
       "      <td>78.23</td>\n",
       "      <td>15</td>\n",
       "      <td>11110</td>\n",
       "    </tr>\n",
       "  </tbody>\n",
       "</table>\n",
       "</div>"
      ],
      "text/plain": [
       "   tx_year  tx_month   price  built  house_size  floor  geo_code\n",
       "0     2006         1  29,500   1983       93.40      6     11110\n",
       "1     2006         1  15,741   1998       57.18     12     11110\n",
       "2     2006         1  23,198   1998       84.26      6     11110\n",
       "3     2006         1  23,198   1998       84.26     14     11110\n",
       "4     2006         1  21,535   1998       78.23     15     11110"
      ]
     },
     "execution_count": 2,
     "metadata": {},
     "output_type": "execute_result"
    }
   ],
   "source": [
    "apt_dat = pd.read_csv('apt_data_seoul.csv')\n",
    "apt_dat = apt_dat.reindex(columns=['tx_year','tx_month','price','built','house_size','floor','geo_code'])\n",
    "print('The number of observations:',len(apt_dat))\n",
    "apt_dat.head()"
   ]
  },
  {
   "cell_type": "code",
   "execution_count": 3,
   "id": "2fafd0a9",
   "metadata": {},
   "outputs": [
    {
     "name": "stdout",
     "output_type": "stream",
     "text": [
      "tx_year         int64\n",
      "tx_month        int64\n",
      "price          object\n",
      "built           int64\n",
      "house_size    float64\n",
      "floor           int64\n",
      "geo_code        int64\n",
      "dtype: object\n"
     ]
    }
   ],
   "source": [
    "print(apt_dat.dtypes)"
   ]
  },
  {
   "cell_type": "code",
   "execution_count": 4,
   "id": "3dd15a6e",
   "metadata": {},
   "outputs": [],
   "source": [
    "apt_dat['price'] = apt_dat['price'].str.replace(',', '').astype(float)"
   ]
  },
  {
   "cell_type": "markdown",
   "id": "066d4045",
   "metadata": {},
   "source": [
    "The transaction data for apartment sales contains 10 variables:  transaction dates (tx_year, tx_month, tx_day), transaction prices (price), years that an apartment was built in (built), structure areas (house_size), on which floors sold units are located (floor), names of neighborhoods (loc_dong),  city codes (geo_code), and names of apartment complexes. \n",
    "\n",
    "The data spans from January 2006 to December 2020, and has 1,182,110 observations in total. "
   ]
  },
  {
   "cell_type": "code",
   "execution_count": 5,
   "id": "b450124b",
   "metadata": {},
   "outputs": [
    {
     "data": {
      "image/png": "[encoded data removed]",
      "text/plain": [
       "<Figure size 1008x1008 with 9 Axes>"
      ]
     },
     "metadata": {},
     "output_type": "display_data"
    }
   ],
   "source": [
    "apt_dat.hist(figsize=(14,14),xrot=-45)\n",
    "plt.show()"
   ]
  },
  {
   "cell_type": "code",
   "execution_count": 6,
   "id": "6be7be97",
   "metadata": {},
   "outputs": [
    {
     "data": {
      "text/html": [
       "<div>\n",
       "<style scoped>\n",
       "    .dataframe tbody tr th:only-of-type {\n",
       "        vertical-align: middle;\n",
       "    }\n",
       "\n",
       "    .dataframe tbody tr th {\n",
       "        vertical-align: top;\n",
       "    }\n",
       "\n",
       "    .dataframe thead th {\n",
       "        text-align: right;\n",
       "    }\n",
       "</style>\n",
       "<table border=\"1\" class=\"dataframe\">\n",
       "  <thead>\n",
       "    <tr style=\"text-align: right;\">\n",
       "      <th></th>\n",
       "      <th>tx_year</th>\n",
       "      <th>tx_month</th>\n",
       "      <th>price</th>\n",
       "      <th>built</th>\n",
       "      <th>house_size</th>\n",
       "      <th>floor</th>\n",
       "      <th>geo_code</th>\n",
       "    </tr>\n",
       "  </thead>\n",
       "  <tbody>\n",
       "    <tr>\n",
       "      <th>count</th>\n",
       "      <td>1249656.00</td>\n",
       "      <td>1249656.00</td>\n",
       "      <td>1249656.00</td>\n",
       "      <td>1249656.00</td>\n",
       "      <td>1249656.00</td>\n",
       "      <td>1249656.00</td>\n",
       "      <td>1249656.00</td>\n",
       "    </tr>\n",
       "    <tr>\n",
       "      <th>mean</th>\n",
       "      <td>2013.46</td>\n",
       "      <td>6.50</td>\n",
       "      <td>52244.67</td>\n",
       "      <td>1998.57</td>\n",
       "      <td>77.39</td>\n",
       "      <td>8.69</td>\n",
       "      <td>11457.26</td>\n",
       "    </tr>\n",
       "    <tr>\n",
       "      <th>std</th>\n",
       "      <td>4.41</td>\n",
       "      <td>3.34</td>\n",
       "      <td>40055.33</td>\n",
       "      <td>9.11</td>\n",
       "      <td>28.75</td>\n",
       "      <td>5.85</td>\n",
       "      <td>170.45</td>\n",
       "    </tr>\n",
       "    <tr>\n",
       "      <th>min</th>\n",
       "      <td>2006.00</td>\n",
       "      <td>1.00</td>\n",
       "      <td>350.00</td>\n",
       "      <td>1961.00</td>\n",
       "      <td>10.02</td>\n",
       "      <td>-4.00</td>\n",
       "      <td>11110.00</td>\n",
       "    </tr>\n",
       "    <tr>\n",
       "      <th>25%</th>\n",
       "      <td>2009.00</td>\n",
       "      <td>4.00</td>\n",
       "      <td>28300.00</td>\n",
       "      <td>1992.00</td>\n",
       "      <td>59.69</td>\n",
       "      <td>4.00</td>\n",
       "      <td>11320.00</td>\n",
       "    </tr>\n",
       "    <tr>\n",
       "      <th>50%</th>\n",
       "      <td>2014.00</td>\n",
       "      <td>7.00</td>\n",
       "      <td>41300.00</td>\n",
       "      <td>2000.00</td>\n",
       "      <td>82.50</td>\n",
       "      <td>8.00</td>\n",
       "      <td>11440.00</td>\n",
       "    </tr>\n",
       "    <tr>\n",
       "      <th>75%</th>\n",
       "      <td>2017.00</td>\n",
       "      <td>9.00</td>\n",
       "      <td>62500.00</td>\n",
       "      <td>2005.00</td>\n",
       "      <td>84.96</td>\n",
       "      <td>12.00</td>\n",
       "      <td>11590.00</td>\n",
       "    </tr>\n",
       "    <tr>\n",
       "      <th>max</th>\n",
       "      <td>2020.00</td>\n",
       "      <td>12.00</td>\n",
       "      <td>1053000.00</td>\n",
       "      <td>2021.00</td>\n",
       "      <td>424.32</td>\n",
       "      <td>69.00</td>\n",
       "      <td>11740.00</td>\n",
       "    </tr>\n",
       "  </tbody>\n",
       "</table>\n",
       "</div>"
      ],
      "text/plain": [
       "         tx_year   tx_month      price      built  house_size      floor  \\\n",
       "count 1249656.00 1249656.00 1249656.00 1249656.00  1249656.00 1249656.00   \n",
       "mean     2013.46       6.50   52244.67    1998.57       77.39       8.69   \n",
       "std         4.41       3.34   40055.33       9.11       28.75       5.85   \n",
       "min      2006.00       1.00     350.00    1961.00       10.02      -4.00   \n",
       "25%      2009.00       4.00   28300.00    1992.00       59.69       4.00   \n",
       "50%      2014.00       7.00   41300.00    2000.00       82.50       8.00   \n",
       "75%      2017.00       9.00   62500.00    2005.00       84.96      12.00   \n",
       "max      2020.00      12.00 1053000.00    2021.00      424.32      69.00   \n",
       "\n",
       "        geo_code  \n",
       "count 1249656.00  \n",
       "mean    11457.26  \n",
       "std       170.45  \n",
       "min     11110.00  \n",
       "25%     11320.00  \n",
       "50%     11440.00  \n",
       "75%     11590.00  \n",
       "max     11740.00  "
      ]
     },
     "execution_count": 6,
     "metadata": {},
     "output_type": "execute_result"
    }
   ],
   "source": [
    "apt_dat.describe()"
   ]
  },
  {
   "cell_type": "markdown",
   "id": "ea957627",
   "metadata": {},
   "source": [
    "## Data Cleaning"
   ]
  },
  {
   "cell_type": "code",
   "execution_count": 7,
   "id": "cea89142",
   "metadata": {},
   "outputs": [
    {
     "name": "stdout",
     "output_type": "stream",
     "text": [
      "(1165705, 7)\n"
     ]
    }
   ],
   "source": [
    "# Drop duplicates\n",
    "apt_dat = apt_dat.drop_duplicates()\n",
    "print(apt_dat.shape)"
   ]
  },
  {
   "cell_type": "code",
   "execution_count": 8,
   "id": "b5b45f5c",
   "metadata": {},
   "outputs": [
    {
     "name": "stdout",
     "output_type": "stream",
     "text": [
      "258\n"
     ]
    }
   ],
   "source": [
    "# Remove observations with negative floors\n",
    "print(len(apt_dat[apt_dat.floor < 0]))\n",
    "apt_dat = apt_dat[apt_dat.floor > 0]"
   ]
  },
  {
   "cell_type": "code",
   "execution_count": 9,
   "id": "5fde1b28",
   "metadata": {},
   "outputs": [
    {
     "name": "stdout",
     "output_type": "stream",
     "text": [
      "The number of missing observations for built is 0\n",
      "The number of missing observations for house_size is 0\n",
      "The number of missing observations for floor is 0\n",
      "The number of missing observations for geo_code is 0\n"
     ]
    }
   ],
   "source": [
    "for column in apt_dat.columns[3:7]:\n",
    "    print('The number of missing observations for {} is'.format(column),apt_dat[column].isnull().sum())"
   ]
  },
  {
   "cell_type": "code",
   "execution_count": 10,
   "id": "669cd328",
   "metadata": {},
   "outputs": [],
   "source": [
    "apt_dat['floor_area'] = pd.cut(apt_dat['house_size'], bins= [0,40,85,149, float('Inf')],labels=['small','medium','big','huge'])"
   ]
  },
  {
   "cell_type": "code",
   "execution_count": 11,
   "id": "61890da7",
   "metadata": {},
   "outputs": [
    {
     "data": {
      "image/png": "[encoded data removed]",
      "text/plain": [
       "<Figure size 432x288 with 1 Axes>"
      ]
     },
     "metadata": {},
     "output_type": "display_data"
    },
    {
     "data": {
      "image/png": "[encoded data removed]",
      "text/plain": [
       "<Figure size 432x288 with 1 Axes>"
      ]
     },
     "metadata": {},
     "output_type": "display_data"
    }
   ],
   "source": [
    "# Box plot of 'price' using the Seaborn library\n",
    "sns.boxplot(x = 'price', data = apt_dat)\n",
    "plt.show()\n",
    "\n",
    "# Violin plot\n",
    "sns.violinplot(x = 'price', data = apt_dat)\n",
    "plt.show()"
   ]
  },
  {
   "cell_type": "code",
   "execution_count": 12,
   "id": "e4904d66",
   "metadata": {},
   "outputs": [
    {
     "data": {
      "image/png": "[encoded data removed]",
      "text/plain": [
       "<Figure size 432x288 with 1 Axes>"
      ]
     },
     "metadata": {},
     "output_type": "display_data"
    }
   ],
   "source": [
    "sns.boxplot(y='floor_area',x='price',data=apt_dat)\n",
    "plt.show()"
   ]
  },
  {
   "cell_type": "markdown",
   "id": "91a7518f",
   "metadata": {},
   "source": [
    "## Feature Engineering"
   ]
  },
  {
   "cell_type": "code",
   "execution_count": 13,
   "id": "83a6b2a2",
   "metadata": {},
   "outputs": [
    {
     "data": {
      "text/plain": [
       "count   1165447.00\n",
       "mean         15.21\n",
       "std           9.35\n",
       "min          -1.00\n",
       "25%           8.00\n",
       "50%          14.00\n",
       "75%          21.00\n",
       "max          59.00\n",
       "Name: apt_age, dtype: float64"
      ]
     },
     "execution_count": 13,
     "metadata": {},
     "output_type": "execute_result"
    }
   ],
   "source": [
    "apt_dat['apt_age'] = apt_dat.tx_year - apt_dat.built\n",
    "apt_dat.apt_age.describe()"
   ]
  },
  {
   "cell_type": "code",
   "execution_count": 14,
   "id": "f0f97e8d",
   "metadata": {},
   "outputs": [
    {
     "name": "stdout",
     "output_type": "stream",
     "text": [
      "39\n"
     ]
    }
   ],
   "source": [
    "print(sum(apt_dat.apt_age <0))"
   ]
  },
  {
   "cell_type": "markdown",
   "id": "97cf61e6",
   "metadata": {},
   "source": [
    "The amounts and types of property taxes and tax refunds vary depending on floor sizes. Therefore, I create four categorical variables ralted to *house_size*"
   ]
  },
  {
   "cell_type": "code",
   "execution_count": 15,
   "id": "6d868245",
   "metadata": {},
   "outputs": [],
   "source": [
    "apt_dat['small'] = (apt_dat.house_size <= 40).astype(int)\n",
    "apt_dat['medium'] = ((apt_dat.house_size > 40) & (apt_dat.house_size <=85)).astype(int)\n",
    "\n",
    "apt_dat['big'] = ((apt_dat.house_size > 85) & (apt_dat.house_size <= 149)).astype(int)\n",
    "apt_dat['huge'] = (apt_dat.house_size > 149).astype(int)"
   ]
  },
  {
   "cell_type": "markdown",
   "id": "aa9e5c5d",
   "metadata": {},
   "source": [
    "Finally, I created dummy variables for each city in Seoul based on *geo_code*, to capture time-invariant effects that each city has on apartment sale prices. "
   ]
  },
  {
   "cell_type": "code",
   "execution_count": 16,
   "id": "69373e27",
   "metadata": {},
   "outputs": [],
   "source": [
    "apt_dat = pd.get_dummies(apt_dat,columns=['geo_code'])"
   ]
  },
  {
   "cell_type": "code",
   "execution_count": 17,
   "id": "4b6a0ba9",
   "metadata": {},
   "outputs": [],
   "source": [
    "apt_dat.drop('built',axis=1,inplace=True)"
   ]
  },
  {
   "cell_type": "code",
   "execution_count": 18,
   "id": "cff4315d",
   "metadata": {},
   "outputs": [],
   "source": [
    "apt_dat.drop('house_size',axis=1,inplace=True)"
   ]
  },
  {
   "cell_type": "code",
   "execution_count": 37,
   "id": "8ac463e5",
   "metadata": {},
   "outputs": [
    {
     "name": "stdout",
     "output_type": "stream",
     "text": [
      "(1165447, 34)\n"
     ]
    }
   ],
   "source": [
    "apt_dat.to_csv('ab_table_apt.csv')\n",
    "print(apt_dat.shape)"
   ]
  },
  {
   "cell_type": "code",
   "execution_count": 45,
   "id": "4de4981a",
   "metadata": {},
   "outputs": [
    {
     "data": {
      "text/html": [
       "<div>\n",
       "<style scoped>\n",
       "    .dataframe tbody tr th:only-of-type {\n",
       "        vertical-align: middle;\n",
       "    }\n",
       "\n",
       "    .dataframe tbody tr th {\n",
       "        vertical-align: top;\n",
       "    }\n",
       "\n",
       "    .dataframe thead th {\n",
       "        text-align: right;\n",
       "    }\n",
       "</style>\n",
       "<table border=\"1\" class=\"dataframe\">\n",
       "  <thead>\n",
       "    <tr style=\"text-align: right;\">\n",
       "      <th></th>\n",
       "      <th>tx_year</th>\n",
       "      <th>tx_month</th>\n",
       "      <th>price</th>\n",
       "      <th>floor</th>\n",
       "      <th>apt_age</th>\n",
       "      <th>small</th>\n",
       "      <th>medium</th>\n",
       "      <th>big</th>\n",
       "      <th>huge</th>\n",
       "      <th>geo_code_11110</th>\n",
       "      <th>...</th>\n",
       "      <th>geo_code_11500</th>\n",
       "      <th>geo_code_11530</th>\n",
       "      <th>geo_code_11545</th>\n",
       "      <th>geo_code_11560</th>\n",
       "      <th>geo_code_11590</th>\n",
       "      <th>geo_code_11620</th>\n",
       "      <th>geo_code_11650</th>\n",
       "      <th>geo_code_11680</th>\n",
       "      <th>geo_code_11710</th>\n",
       "      <th>geo_code_11740</th>\n",
       "    </tr>\n",
       "  </thead>\n",
       "  <tbody>\n",
       "    <tr>\n",
       "      <th>0</th>\n",
       "      <td>2006</td>\n",
       "      <td>1</td>\n",
       "      <td>29500.00</td>\n",
       "      <td>6</td>\n",
       "      <td>23</td>\n",
       "      <td>0</td>\n",
       "      <td>0</td>\n",
       "      <td>1</td>\n",
       "      <td>0</td>\n",
       "      <td>1</td>\n",
       "      <td>...</td>\n",
       "      <td>0</td>\n",
       "      <td>0</td>\n",
       "      <td>0</td>\n",
       "      <td>0</td>\n",
       "      <td>0</td>\n",
       "      <td>0</td>\n",
       "      <td>0</td>\n",
       "      <td>0</td>\n",
       "      <td>0</td>\n",
       "      <td>0</td>\n",
       "    </tr>\n",
       "    <tr>\n",
       "      <th>1</th>\n",
       "      <td>2006</td>\n",
       "      <td>1</td>\n",
       "      <td>15741.00</td>\n",
       "      <td>12</td>\n",
       "      <td>8</td>\n",
       "      <td>0</td>\n",
       "      <td>1</td>\n",
       "      <td>0</td>\n",
       "      <td>0</td>\n",
       "      <td>1</td>\n",
       "      <td>...</td>\n",
       "      <td>0</td>\n",
       "      <td>0</td>\n",
       "      <td>0</td>\n",
       "      <td>0</td>\n",
       "      <td>0</td>\n",
       "      <td>0</td>\n",
       "      <td>0</td>\n",
       "      <td>0</td>\n",
       "      <td>0</td>\n",
       "      <td>0</td>\n",
       "    </tr>\n",
       "    <tr>\n",
       "      <th>2</th>\n",
       "      <td>2006</td>\n",
       "      <td>1</td>\n",
       "      <td>23198.00</td>\n",
       "      <td>6</td>\n",
       "      <td>8</td>\n",
       "      <td>0</td>\n",
       "      <td>1</td>\n",
       "      <td>0</td>\n",
       "      <td>0</td>\n",
       "      <td>1</td>\n",
       "      <td>...</td>\n",
       "      <td>0</td>\n",
       "      <td>0</td>\n",
       "      <td>0</td>\n",
       "      <td>0</td>\n",
       "      <td>0</td>\n",
       "      <td>0</td>\n",
       "      <td>0</td>\n",
       "      <td>0</td>\n",
       "      <td>0</td>\n",
       "      <td>0</td>\n",
       "    </tr>\n",
       "    <tr>\n",
       "      <th>3</th>\n",
       "      <td>2006</td>\n",
       "      <td>1</td>\n",
       "      <td>23198.00</td>\n",
       "      <td>14</td>\n",
       "      <td>8</td>\n",
       "      <td>0</td>\n",
       "      <td>1</td>\n",
       "      <td>0</td>\n",
       "      <td>0</td>\n",
       "      <td>1</td>\n",
       "      <td>...</td>\n",
       "      <td>0</td>\n",
       "      <td>0</td>\n",
       "      <td>0</td>\n",
       "      <td>0</td>\n",
       "      <td>0</td>\n",
       "      <td>0</td>\n",
       "      <td>0</td>\n",
       "      <td>0</td>\n",
       "      <td>0</td>\n",
       "      <td>0</td>\n",
       "    </tr>\n",
       "    <tr>\n",
       "      <th>4</th>\n",
       "      <td>2006</td>\n",
       "      <td>1</td>\n",
       "      <td>21535.00</td>\n",
       "      <td>15</td>\n",
       "      <td>8</td>\n",
       "      <td>0</td>\n",
       "      <td>1</td>\n",
       "      <td>0</td>\n",
       "      <td>0</td>\n",
       "      <td>1</td>\n",
       "      <td>...</td>\n",
       "      <td>0</td>\n",
       "      <td>0</td>\n",
       "      <td>0</td>\n",
       "      <td>0</td>\n",
       "      <td>0</td>\n",
       "      <td>0</td>\n",
       "      <td>0</td>\n",
       "      <td>0</td>\n",
       "      <td>0</td>\n",
       "      <td>0</td>\n",
       "    </tr>\n",
       "    <tr>\n",
       "      <th>5</th>\n",
       "      <td>2006</td>\n",
       "      <td>1</td>\n",
       "      <td>21500.00</td>\n",
       "      <td>6</td>\n",
       "      <td>7</td>\n",
       "      <td>0</td>\n",
       "      <td>1</td>\n",
       "      <td>0</td>\n",
       "      <td>0</td>\n",
       "      <td>1</td>\n",
       "      <td>...</td>\n",
       "      <td>0</td>\n",
       "      <td>0</td>\n",
       "      <td>0</td>\n",
       "      <td>0</td>\n",
       "      <td>0</td>\n",
       "      <td>0</td>\n",
       "      <td>0</td>\n",
       "      <td>0</td>\n",
       "      <td>0</td>\n",
       "      <td>0</td>\n",
       "    </tr>\n",
       "    <tr>\n",
       "      <th>6</th>\n",
       "      <td>2006</td>\n",
       "      <td>1</td>\n",
       "      <td>20000.00</td>\n",
       "      <td>8</td>\n",
       "      <td>7</td>\n",
       "      <td>0</td>\n",
       "      <td>1</td>\n",
       "      <td>0</td>\n",
       "      <td>0</td>\n",
       "      <td>1</td>\n",
       "      <td>...</td>\n",
       "      <td>0</td>\n",
       "      <td>0</td>\n",
       "      <td>0</td>\n",
       "      <td>0</td>\n",
       "      <td>0</td>\n",
       "      <td>0</td>\n",
       "      <td>0</td>\n",
       "      <td>0</td>\n",
       "      <td>0</td>\n",
       "      <td>0</td>\n",
       "    </tr>\n",
       "    <tr>\n",
       "      <th>7</th>\n",
       "      <td>2006</td>\n",
       "      <td>1</td>\n",
       "      <td>16800.00</td>\n",
       "      <td>8</td>\n",
       "      <td>14</td>\n",
       "      <td>0</td>\n",
       "      <td>1</td>\n",
       "      <td>0</td>\n",
       "      <td>0</td>\n",
       "      <td>1</td>\n",
       "      <td>...</td>\n",
       "      <td>0</td>\n",
       "      <td>0</td>\n",
       "      <td>0</td>\n",
       "      <td>0</td>\n",
       "      <td>0</td>\n",
       "      <td>0</td>\n",
       "      <td>0</td>\n",
       "      <td>0</td>\n",
       "      <td>0</td>\n",
       "      <td>0</td>\n",
       "    </tr>\n",
       "    <tr>\n",
       "      <th>8</th>\n",
       "      <td>2006</td>\n",
       "      <td>1</td>\n",
       "      <td>16500.00</td>\n",
       "      <td>11</td>\n",
       "      <td>13</td>\n",
       "      <td>0</td>\n",
       "      <td>1</td>\n",
       "      <td>0</td>\n",
       "      <td>0</td>\n",
       "      <td>1</td>\n",
       "      <td>...</td>\n",
       "      <td>0</td>\n",
       "      <td>0</td>\n",
       "      <td>0</td>\n",
       "      <td>0</td>\n",
       "      <td>0</td>\n",
       "      <td>0</td>\n",
       "      <td>0</td>\n",
       "      <td>0</td>\n",
       "      <td>0</td>\n",
       "      <td>0</td>\n",
       "    </tr>\n",
       "    <tr>\n",
       "      <th>9</th>\n",
       "      <td>2006</td>\n",
       "      <td>1</td>\n",
       "      <td>28000.00</td>\n",
       "      <td>7</td>\n",
       "      <td>13</td>\n",
       "      <td>0</td>\n",
       "      <td>0</td>\n",
       "      <td>1</td>\n",
       "      <td>0</td>\n",
       "      <td>1</td>\n",
       "      <td>...</td>\n",
       "      <td>0</td>\n",
       "      <td>0</td>\n",
       "      <td>0</td>\n",
       "      <td>0</td>\n",
       "      <td>0</td>\n",
       "      <td>0</td>\n",
       "      <td>0</td>\n",
       "      <td>0</td>\n",
       "      <td>0</td>\n",
       "      <td>0</td>\n",
       "    </tr>\n",
       "  </tbody>\n",
       "</table>\n",
       "<p>10 rows × 34 columns</p>\n",
       "</div>"
      ],
      "text/plain": [
       "   tx_year  tx_month    price  floor  apt_age  small  medium  big  huge  \\\n",
       "0     2006         1 29500.00      6       23      0       0    1     0   \n",
       "1     2006         1 15741.00     12        8      0       1    0     0   \n",
       "2     2006         1 23198.00      6        8      0       1    0     0   \n",
       "3     2006         1 23198.00     14        8      0       1    0     0   \n",
       "4     2006         1 21535.00     15        8      0       1    0     0   \n",
       "5     2006         1 21500.00      6        7      0       1    0     0   \n",
       "6     2006         1 20000.00      8        7      0       1    0     0   \n",
       "7     2006         1 16800.00      8       14      0       1    0     0   \n",
       "8     2006         1 16500.00     11       13      0       1    0     0   \n",
       "9     2006         1 28000.00      7       13      0       0    1     0   \n",
       "\n",
       "   geo_code_11110  ...  geo_code_11500  geo_code_11530  geo_code_11545  \\\n",
       "0               1  ...               0               0               0   \n",
       "1               1  ...               0               0               0   \n",
       "2               1  ...               0               0               0   \n",
       "3               1  ...               0               0               0   \n",
       "4               1  ...               0               0               0   \n",
       "5               1  ...               0               0               0   \n",
       "6               1  ...               0               0               0   \n",
       "7               1  ...               0               0               0   \n",
       "8               1  ...               0               0               0   \n",
       "9               1  ...               0               0               0   \n",
       "\n",
       "   geo_code_11560  geo_code_11590  geo_code_11620  geo_code_11650  \\\n",
       "0               0               0               0               0   \n",
       "1               0               0               0               0   \n",
       "2               0               0               0               0   \n",
       "3               0               0               0               0   \n",
       "4               0               0               0               0   \n",
       "5               0               0               0               0   \n",
       "6               0               0               0               0   \n",
       "7               0               0               0               0   \n",
       "8               0               0               0               0   \n",
       "9               0               0               0               0   \n",
       "\n",
       "   geo_code_11680  geo_code_11710  geo_code_11740  \n",
       "0               0               0               0  \n",
       "1               0               0               0  \n",
       "2               0               0               0  \n",
       "3               0               0               0  \n",
       "4               0               0               0  \n",
       "5               0               0               0  \n",
       "6               0               0               0  \n",
       "7               0               0               0  \n",
       "8               0               0               0  \n",
       "9               0               0               0  \n",
       "\n",
       "[10 rows x 34 columns]"
      ]
     },
     "execution_count": 45,
     "metadata": {},
     "output_type": "execute_result"
    }
   ],
   "source": [
    "apt_dat.head(10)"
   ]
  },
  {
   "cell_type": "markdown",
   "id": "a27695fe",
   "metadata": {},
   "source": [
    "## Algorithm Selection"
   ]
  },
  {
   "cell_type": "markdown",
   "id": "fa4db3f1",
   "metadata": {},
   "source": [
    "In this section, I tried five algorithms to predict apartment prices in Seoul, along multiple sets of hyperparameters for each algorithm. First, since the goal of this project is to predict prices based on housing features, regressions arise as a natural starting point. However, to circumvent possible overfitting issues, I implemented Lasso, Ridge, and Elastic Net regressions. Second, compared to regression based algorithms, decision tree based algorithms perform better if there is non-linear relationship between explanatory and dependent variables. Therefore, I also conducted two decision tree based model, random forest and gradient boosting. "
   ]
  },
  {
   "cell_type": "code",
   "execution_count": 49,
   "id": "31bdcbe4",
   "metadata": {},
   "outputs": [],
   "source": [
    "pipelines = {\n",
    "    'lasso': make_pipeline(StandardScaler(), Lasso(random_state=123)),\n",
    "    'ridge': make_pipeline(StandardScaler(), Ridge(random_state=123)),\n",
    "    'enet': make_pipeline(StandardScaler(), ElasticNet(random_state=123)),\n",
    "    'rf': make_pipeline(StandardScaler(), RandomForestRegressor(random_state=123)),\n",
    "    'gb': make_pipeline(StandardScaler(), GradientBoostingRegressor(random_state=123))\n",
    "}"
   ]
  },
  {
   "cell_type": "code",
   "execution_count": 50,
   "id": "86f6c140",
   "metadata": {},
   "outputs": [],
   "source": [
    "lasso_hyperparameters = {'lasso__alpha': [0.001, 0.005, 0.01, 0.05, 0.1, 0.5, 1, 5, 10]}\n",
    "\n",
    "ridge_hyperparameters = {'ridge__alpha': [0.001, 0.005, 0.01, 0.05, 0.1, 0.5, 1, 5, 10]}\n",
    "\n",
    "enet_hyperparameters = {\n",
    "    'elasticnet__alpha': [0.001, 0.005, 0.01, 0.05, 0.1, 0.5, 1, 5, 10],\n",
    "    'elasticnet__l1_ratio': [0.1, 0.3, 0.5, 0.7, 0.9]\n",
    "}\n",
    "rf_hyperparameters = {\n",
    "    'randomforestregressor__n_estimators': [100,200],\n",
    "    'randomforestregressor__max_features': ['auto','sqrt',0.33]\n",
    "}\n",
    "gb_hyperparameters = {\n",
    "    'gradientboostingregressor__n_estimators': [100,200],\n",
    "    'gradientboostingregressor__learning_rate': [0.05, 0.1, 0.2],\n",
    "    'gradientboostingregressor__max_depth': [1, 3, 5]\n",
    "}"
   ]
  },
  {
   "cell_type": "code",
   "execution_count": 51,
   "id": "4c52ade8",
   "metadata": {},
   "outputs": [],
   "source": [
    "hyperparameters = {'lasso': lasso_hyperparameters,\n",
    "                  'ridge': ridge_hyperparameters,\n",
    "                   'enet': enet_hyperparameters,\n",
    "                   'rf': rf_hyperparameters,\n",
    "                   'gb': gb_hyperparameters}"
   ]
  },
  {
   "cell_type": "code",
   "execution_count": 52,
   "id": "f6c1ba0f",
   "metadata": {},
   "outputs": [
    {
     "data": {
      "text/plain": [
       "dict_items([('lasso', Pipeline(steps=[('standardscaler', StandardScaler()),\n",
       "                ('lasso', Lasso(random_state=123))])), ('ridge', Pipeline(steps=[('standardscaler', StandardScaler()),\n",
       "                ('ridge', Ridge(random_state=123))])), ('enet', Pipeline(steps=[('standardscaler', StandardScaler()),\n",
       "                ('elasticnet', ElasticNet(random_state=123))])), ('rf', Pipeline(steps=[('standardscaler', StandardScaler()),\n",
       "                ('randomforestregressor',\n",
       "                 RandomForestRegressor(random_state=123))])), ('gb', Pipeline(steps=[('standardscaler', StandardScaler()),\n",
       "                ('gradientboostingregressor',\n",
       "                 GradientBoostingRegressor(random_state=123))]))])"
      ]
     },
     "execution_count": 52,
     "metadata": {},
     "output_type": "execute_result"
    }
   ],
   "source": [
    "pipelines.items()"
   ]
  },
  {
   "cell_type": "markdown",
   "id": "d959eb6a",
   "metadata": {},
   "source": [
    "## Model Training"
   ]
  },
  {
   "cell_type": "code",
   "execution_count": 19,
   "id": "e8e0e159",
   "metadata": {},
   "outputs": [],
   "source": [
    "y = apt_dat.price\n",
    "X = apt_dat.drop('price',axis=1)"
   ]
  },
  {
   "cell_type": "code",
   "execution_count": 20,
   "id": "b66a6c68",
   "metadata": {},
   "outputs": [],
   "source": [
    "X_train, X_test,y_train, y_test = train_test_split(X,y,test_size=0.2,random_state=1234)"
   ]
  },
  {
   "cell_type": "code",
   "execution_count": 21,
   "id": "edae03c0",
   "metadata": {},
   "outputs": [
    {
     "name": "stdout",
     "output_type": "stream",
     "text": [
      "932357 233090 932357 233090\n"
     ]
    }
   ],
   "source": [
    "print(len(X_train),len(X_test),len(y_train),len(y_test))"
   ]
  },
  {
   "cell_type": "code",
   "execution_count": 59,
   "id": "61b06615",
   "metadata": {},
   "outputs": [
    {
     "name": "stdout",
     "output_type": "stream",
     "text": [
      "lasso has been fitted.\n",
      "ridge has been fitted.\n",
      "enet has been fitted.\n",
      "rf has been fitted.\n",
      "gb has been fitted.\n"
     ]
    }
   ],
   "source": [
    "fitted_models = {}\n",
    "for name, pipeline in pipelines.items():\n",
    "    model = GridSearchCV(pipeline, hyperparameters[name],cv=10,n_jobs=1)\n",
    "    model.fit(X_train, y_train)\n",
    "    fitted_models[name] = model\n",
    "    print(name, 'has been fitted.')"
   ]
  },
  {
   "cell_type": "code",
   "execution_count": 60,
   "id": "defeae7c",
   "metadata": {},
   "outputs": [
    {
     "name": "stdout",
     "output_type": "stream",
     "text": [
      "lasso 0.6184719339330191\n",
      "ridge 0.6184719332582199\n",
      "enet 0.6184719382746241\n",
      "rf 0.8575980810386599\n",
      "gb 0.8346475609239723\n"
     ]
    }
   ],
   "source": [
    "for name, model in fitted_models.items():\n",
    "    print(name, model.best_score_)"
   ]
  },
  {
   "cell_type": "code",
   "execution_count": 61,
   "id": "cb553a1a",
   "metadata": {},
   "outputs": [
    {
     "name": "stdout",
     "output_type": "stream",
     "text": [
      "lasso\n",
      "-------\n",
      "R^2: 0.6180274729296913\n",
      "MAEL 16070.348713951713\n",
      "\n",
      "ridge\n",
      "-------\n",
      "R^2: 0.6180274891767195\n",
      "MAEL 16070.324535666754\n",
      "\n",
      "enet\n",
      "-------\n",
      "R^2: 0.6180278845134268\n",
      "MAEL 16070.037963560033\n",
      "\n",
      "rf\n",
      "-------\n",
      "R^2: 0.857092394398934\n",
      "MAEL 9167.106189212207\n",
      "\n",
      "gb\n",
      "-------\n",
      "R^2: 0.8335748912820518\n",
      "MAEL 10436.025179072507\n",
      "\n"
     ]
    }
   ],
   "source": [
    "for name, model in fitted_models.items():\n",
    "    pred = model.predict(X_test)\n",
    "    print(name)\n",
    "    print('-------')\n",
    "    print('R^2:',r2_score(y_test,pred))\n",
    "    print('MAEL', mean_absolute_error(y_test,pred))\n",
    "    print()"
   ]
  },
  {
   "cell_type": "code",
   "execution_count": 62,
   "id": "7884d250",
   "metadata": {},
   "outputs": [
    {
     "data": {
      "image/png": "[encoded data removed]",
      "text/plain": [
       "<Figure size 432x288 with 1 Axes>"
      ]
     },
     "metadata": {},
     "output_type": "display_data"
    }
   ],
   "source": [
    "plt.scatter(fitted_models['rf'].predict(X_test),y_test)\n",
    "plt.xlabel('predicted')\n",
    "plt.ylabel('actual')\n",
    "plt.show()"
   ]
  },
  {
   "cell_type": "code",
   "execution_count": 63,
   "id": "3de312c6",
   "metadata": {},
   "outputs": [
    {
     "name": "stdout",
     "output_type": "stream",
     "text": [
      "{'memory': None, 'steps': [('standardscaler', StandardScaler()), ('randomforestregressor', RandomForestRegressor(n_estimators=200, random_state=123))], 'verbose': False, 'standardscaler': StandardScaler(), 'randomforestregressor': RandomForestRegressor(n_estimators=200, random_state=123), 'standardscaler__copy': True, 'standardscaler__with_mean': True, 'standardscaler__with_std': True, 'randomforestregressor__bootstrap': True, 'randomforestregressor__ccp_alpha': 0.0, 'randomforestregressor__criterion': 'mse', 'randomforestregressor__max_depth': None, 'randomforestregressor__max_features': 'auto', 'randomforestregressor__max_leaf_nodes': None, 'randomforestregressor__max_samples': None, 'randomforestregressor__min_impurity_decrease': 0.0, 'randomforestregressor__min_impurity_split': None, 'randomforestregressor__min_samples_leaf': 1, 'randomforestregressor__min_samples_split': 2, 'randomforestregressor__min_weight_fraction_leaf': 0.0, 'randomforestregressor__n_estimators': 200, 'randomforestregressor__n_jobs': None, 'randomforestregressor__oob_score': False, 'randomforestregressor__random_state': 123, 'randomforestregressor__verbose': 0, 'randomforestregressor__warm_start': False}\n"
     ]
    }
   ],
   "source": [
    "print(fitted_models['rf'].best_estimator_.get_params())"
   ]
  },
  {
   "cell_type": "code",
   "execution_count": 64,
   "id": "4fe29b9d",
   "metadata": {},
   "outputs": [],
   "source": [
    "with open('final_model.pkl','wb') as f:\n",
    "    pickle.dump(fitted_models['rf'].best_estimator_, f)"
   ]
  },
  {
   "cell_type": "markdown",
   "id": "37c2496b",
   "metadata": {},
   "source": [
    "## Insights & Analysis"
   ]
  },
  {
   "cell_type": "markdown",
   "id": "e9064496",
   "metadata": {},
   "source": [
    "Model training results show that a random forest algorithm has the smallest prediction error and the largest $R^2$."
   ]
  },
  {
   "cell_type": "markdown",
   "id": "2946affe",
   "metadata": {},
   "source": [
    "Although I only used apartment sales data for this project, there are other types of housing, such as multi-unit houses (similar to townhouses and condos) and single family houses. It is likely that people consider location more than housing type. If this is the case, incorporating those housing types in the analysis will be able to take into account the interplay between various housing types within location. "
   ]
  }
 ],
 "metadata": {
  "kernelspec": {
   "display_name": "Python 3 (ipykernel)",
   "language": "python",
   "name": "python3"
  },
  "language_info": {
   "codemirror_mode": {
    "name": "ipython",
    "version": 3
   },
   "file_extension": ".py",
   "mimetype": "text/x-python",
   "name": "python",
   "nbconvert_exporter": "python",
   "pygments_lexer": "ipython3",
   "version": "3.9.7"
  }
 },
 "nbformat": 4,
 "nbformat_minor": 5
}
